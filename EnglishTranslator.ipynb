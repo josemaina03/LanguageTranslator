{
 "cells": [
  {
   "cell_type": "code",
   "execution_count": 2,
   "id": "190f7796",
   "metadata": {},
   "outputs": [
    {
     "name": "stdout",
     "output_type": "stream",
     "text": [
      "Enter text in your native language: bonjour\n",
      "Enter the code for your native language (e.g., 'fr' for French, 'es' for Spanish): fr\n",
      "Translation to English: Good morning\n"
     ]
    }
   ],
   "source": [
    "from googletrans import Translator\n",
    "\n",
    "def translate_to_english(text, source_language):\n",
    "    translator = Translator()\n",
    "    translation = translator.translate(text, src=source_language, dest='en')\n",
    "    return translation.text\n",
    "\n",
    "# Example usage\n",
    "user_input = input(\"Enter text in your native language: \")\n",
    "native_language = input(\"Enter the code for your native language (e.g., 'fr' for French, 'es' for Spanish): \")\n",
    "\n",
    "translated_text = translate_to_english(user_input, native_language)\n",
    "print(f\"Translation to English: {translated_text}\")\n"
   ]
  },
  {
   "cell_type": "code",
   "execution_count": null,
   "id": "c73b83ec",
   "metadata": {},
   "outputs": [],
   "source": []
  }
 ],
 "metadata": {
  "kernelspec": {
   "display_name": "Python 3 (ipykernel)",
   "language": "python",
   "name": "python3"
  },
  "language_info": {
   "codemirror_mode": {
    "name": "ipython",
    "version": 3
   },
   "file_extension": ".py",
   "mimetype": "text/x-python",
   "name": "python",
   "nbconvert_exporter": "python",
   "pygments_lexer": "ipython3",
   "version": "3.10.9"
  }
 },
 "nbformat": 4,
 "nbformat_minor": 5
}
